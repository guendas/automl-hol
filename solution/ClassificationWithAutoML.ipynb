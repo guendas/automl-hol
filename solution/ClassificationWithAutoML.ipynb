{
  "cells": [
    {
      "cell_type": "code",
      "execution_count": 63,
      "metadata": {
        "gather": {
          "logged": 1633965293526
        }
      },
      "outputs": [],
      "source": [
        "from azureml.core import Workspace, Dataset, Experiment, Run\n",
        "from azureml.core.compute import ComputeTarget,AmlCompute\n",
        "from azureml.core.model import Model, InferenceConfig\n",
        "from azureml.core.webservice import AciWebservice, Webservice\n",
        "from azureml.core.compute_target import ComputeTargetException\n",
        "from sklearn.model_selection import train_test_split\n",
        "from azureml.train.automl import AutoMLConfig\n",
        "from azureml.widgets import RunDetails\n",
        "import logging, requests,json\n",
        "import urllib.request\n",
        "\n",
        "# get/create experiment\n",
        "ws = Workspace.from_config()\n",
        "\n",
        "# get dataset\n",
        "dataset = Dataset.get_by_name(ws, name='wine')\n",
        "df = dataset.to_pandas_dataframe()"
      ]
    },
    {
      "cell_type": "code",
      "execution_count": 53,
      "metadata": {
        "gather": {
          "logged": 1633962736053
        }
      },
      "outputs": [
        {
          "name": "stderr",
          "output_type": "stream",
          "text": [
            "WARNING:azureml._base_sdk_common._docstring_wrapper:Method register_pandas_dataframe: This is an experimental method, and may change at any time. Please see https://aka.ms/azuremlexperimental for more information.\n",
            "WARNING:azureml._base_sdk_common._docstring_wrapper:Method register_pandas_dataframe: This is an experimental method, and may change at any time. Please see https://aka.ms/azuremlexperimental for more information.\n"
          ]
        },
        {
          "name": "stdout",
          "output_type": "stream",
          "text": [
            "Validating arguments.\n",
            "Arguments validated.\n",
            "Successfully obtained datastore reference and path.\n",
            "Uploading file to managed-dataset/8f8d2a94-38ba-42f2-bf38-e5058246ba7c/\n",
            "Successfully uploaded file to datastore.\n",
            "Creating and registering a new dataset.\n",
            "Successfully created and registered a new dataset.\n",
            "Validating arguments.\n",
            "Arguments validated.\n",
            "Successfully obtained datastore reference and path.\n",
            "Uploading file to managed-dataset/b17f079f-95c6-440d-8ea3-f974bb2a23eb/\n",
            "Successfully uploaded file to datastore.\n",
            "Creating and registering a new dataset.\n",
            "Successfully created and registered a new dataset.\n"
          ]
        }
      ],
      "source": [
        "#split dataset\n",
        "train_data, test_data = train_test_split(df, test_size=0.1, random_state=42)\n",
        "label = \"quality\"\n",
        "\n",
        "#Saves the train and test dataset in a Tabular type\n",
        "datastore = ws.get_default_datastore()\n",
        "train_dataset = Dataset.Tabular.register_pandas_dataframe(train_data,datastore,'wine_train_dataset',description='Train dataset for wine')\n",
        "test_dataset = Dataset.Tabular.register_pandas_dataframe(test_data,datastore,'wine_test_dataset',description='Test dataset for wine')\n"
      ]
    },
    {
      "cell_type": "code",
      "execution_count": 54,
      "metadata": {
        "gather": {
          "logged": 1633962741270
        }
      },
      "outputs": [
        {
          "name": "stdout",
          "output_type": "stream",
          "text": [
            "Found existing compute resource, using it\n",
            "\n",
            "Running\n"
          ]
        }
      ],
      "source": [
        "#Compute\n",
        "\n",
        "compute_name = 'gusciancnotebook'\n",
        "\n",
        "try:\n",
        "    compute_target = ComputeTarget(workspace=ws,name=compute_name)\n",
        "    print('Found existing compute resource, using it')\n",
        "except ComputeTargetException:\n",
        "    compute_config = AmlCompute.provisioning_configuration(\n",
        "        vm_size= 'STANDARD_D12_V2',\n",
        "        max_nodes=2\n",
        "    )\n",
        "    compute_target = ComputeTarget.create(ws, compute_name, compute_config)\n",
        "\n",
        "compute_target.wait_for_completion(show_output=True)"
      ]
    },
    {
      "cell_type": "code",
      "execution_count": 55,
      "metadata": {
        "gather": {
          "logged": 1633962741482
        },
        "jupyter": {
          "outputs_hidden": false,
          "source_hidden": false
        },
        "nteract": {
          "transient": {
            "deleting": false
          }
        }
      },
      "outputs": [],
      "source": [
        "#Automl config\n",
        "automl_config = AutoMLConfig(\n",
        "                                 task='classification',\n",
        "                                 debug_log ='automl_notebook_errors.log',\n",
        "                                 primary_metric='AUC_weighted',\n",
        "                                 experiment_timeout_minutes=30,\n",
        "                                 training_data=train_dataset,\n",
        "                                 label_column_name=label,\n",
        "                                 compute_target = compute_target,\n",
        "                                 n_cross_validations=5,\n",
        "                                 verbosity=logging.INFO,\n",
        "                                 featurization='auto',\n",
        "                                 enable_voting_ensemble=False,\n",
        "                                 enable_stack_ensemble=False\n",
        "                                )"
      ]
    },
    {
      "cell_type": "code",
      "execution_count": 56,
      "metadata": {
        "gather": {
          "logged": 1633964757681
        },
        "jupyter": {
          "outputs_hidden": false,
          "source_hidden": false
        },
        "nteract": {
          "transient": {
            "deleting": false
          }
        }
      },
      "outputs": [
        {
          "name": "stdout",
          "output_type": "stream",
          "text": [
            "Submitting remote run.\n",
            "No run_configuration provided, running on gusciancnotebook with default configuration\n",
            "Running on remote compute: gusciancnotebook\n"
          ]
        },
        {
          "data": {
            "text/html": [
              "<table style=\"width:100%\"><tr><th>Experiment</th><th>Id</th><th>Type</th><th>Status</th><th>Details Page</th><th>Docs Page</th></tr><tr><td>AutoML-Notebook</td><td>AutoML_5e5472eb-8710-4289-9ecb-2058212fd094</td><td>automl</td><td>NotStarted</td><td><a href=\"https://ml.azure.com/runs/AutoML_5e5472eb-8710-4289-9ecb-2058212fd094?wsid=/subscriptions/b16334a0-3d2d-47c2-98f6-5e2e039d7ff1/resourcegroups/demo_ml/workspaces/robertabruno_mlworkspace&amp;tid=72f988bf-86f1-41af-91ab-2d7cd011db47\" target=\"_blank\" rel=\"noopener\">Link to Azure Machine Learning studio</a></td><td><a href=\"https://docs.microsoft.com/en-us/python/api/overview/azure/ml/intro?view=azure-ml-py\" target=\"_blank\" rel=\"noopener\">Link to Documentation</a></td></tr></table>"
            ],
            "text/plain": [
              "<IPython.core.display.HTML object>"
            ]
          },
          "metadata": {},
          "output_type": "display_data"
        },
        {
          "name": "stdout",
          "output_type": "stream",
          "text": [
            "\n",
            "Current status: FeaturesGeneration. Generating features for the dataset.\n",
            "Current status: DatasetCrossValidationSplit. Generating individually featurized CV splits.\n",
            "Current status: ModelSelection. Beginning model selection.\n",
            "\n",
            "****************************************************************************************************\n",
            "DATA GUARDRAILS: \n",
            "\n",
            "TYPE:         Class balancing detection\n",
            "STATUS:       PASSED\n",
            "DESCRIPTION:  Your inputs were analyzed, and all classes are balanced in your training data.\n",
            "              Learn more about imbalanced data: https://aka.ms/AutomatedMLImbalancedData\n",
            "\n",
            "****************************************************************************************************\n",
            "\n",
            "TYPE:         Missing feature values imputation\n",
            "STATUS:       PASSED\n",
            "DESCRIPTION:  No feature missing values were detected in the training data.\n",
            "              Learn more about missing value imputation: https://aka.ms/AutomatedMLFeaturization\n",
            "\n",
            "****************************************************************************************************\n",
            "\n",
            "TYPE:         High cardinality feature detection\n",
            "STATUS:       PASSED\n",
            "DESCRIPTION:  Your inputs were analyzed, and no high cardinality features were detected.\n",
            "              Learn more about high cardinality feature handling: https://aka.ms/AutomatedMLFeaturization\n",
            "\n",
            "****************************************************************************************************\n",
            "\n",
            "****************************************************************************************************\n",
            "ITERATION: The iteration being evaluated.\n",
            "PIPELINE: A summary description of the pipeline being evaluated.\n",
            "DURATION: Time taken for the current iteration.\n",
            "METRIC: The result of computing score on the fitted pipeline.\n",
            "BEST: The best observed score thus far.\n",
            "****************************************************************************************************\n",
            "\n",
            " ITERATION   PIPELINE                                       DURATION      METRIC      BEST\n",
            "         0   MaxAbsScaler LightGBM                          0:00:41       0.8688    0.8688\n",
            "         1   MaxAbsScaler XGBoostClassifier                 0:02:23       0.8489    0.8688\n",
            "         2   MaxAbsScaler ExtremeRandomTrees                0:00:40       0.8231    0.8688\n",
            "         3   MaxAbsScaler RandomForest                      0:02:25       0.8460    0.8688\n",
            "         4   StandardScalerWrapper LightGBM                 0:00:40       0.8413    0.8688\n",
            "         5   StandardScalerWrapper KNN                      0:00:42       0.8468    0.8688\n",
            "         6   SparseNormalizer XGBoostClassifier             0:02:23       0.8099    0.8688\n",
            "         7   SparseNormalizer RandomForest                  0:00:39       0.8100    0.8688\n",
            "         8   RobustScaler KNN                               0:00:40       0.8863    0.8863\n",
            "         9   MinMaxScaler RandomForest                      0:02:23       0.8278    0.8863\n",
            "        10   StandardScalerWrapper LogisticRegression       0:00:40       0.8148    0.8863\n",
            "        11   StandardScalerWrapper SVM                      0:00:53       0.7714    0.8863\n",
            "        12   StandardScalerWrapper XGBoostClassifier        0:00:40       0.8528    0.8863\n",
            "        13   SparseNormalizer KNN                           0:02:27       0.8220    0.8863\n",
            "        14   RobustScaler ExtremeRandomTrees                0:00:38       0.8140    0.8863\n",
            "        15   SparseNormalizer XGBoostClassifier             0:02:10       0.8197    0.8863\n",
            "        16   MinMaxScaler ExtremeRandomTrees                0:00:41       0.8301    0.8863\n",
            "        17   MinMaxScaler ExtremeRandomTrees                0:00:43       0.8474    0.8863\n",
            "        18   SparseNormalizer LightGBM                      0:00:45       0.7858    0.8863\n",
            "        19   MaxAbsScaler ExtremeRandomTrees                0:00:41       0.8354    0.8863\n",
            "        20   StandardScalerWrapper XGBoostClassifier        0:02:22       0.8527    0.8863\n",
            "[('datatransformer', DataTransformer(\n",
            "    task='classification',\n",
            "    is_onnx_compatible=False,\n",
            "    enable_feature_sweeping=True,\n",
            "    enable_dnn=False,\n",
            "    force_text_dnn=False,\n",
            "    feature_sweeping_timeout=86400,\n",
            "    featurization_config=None,\n",
            "    is_cross_validation=True,\n",
            "    feature_sweeping_config={}\n",
            ")), ('RobustScaler', RobustScaler(copy=True, quantile_range=[25, 75], with_centering=False,\n",
            "             with_scaling=True)), ('KNeighborsClassifier', KNeighborsClassifier(algorithm='auto', leaf_size=30, metric='manhattan',\n",
            "                     metric_params=None, n_jobs=1, n_neighbors=22, p=2,\n",
            "                     weights='distance'))]\n"
          ]
        }
      ],
      "source": [
        "#Experiment set up\n",
        "experiment_name = 'AutoML-Notebook'\n",
        "experiment = Experiment(ws, experiment_name)\n",
        "\n",
        "#Execute run\n",
        "run = experiment.submit(automl_config, show_output=True)\n",
        "\n",
        "best_run, fitted_model = run.get_output()\n",
        "print(fitted_model.steps)"
      ]
    },
    {
      "cell_type": "code",
      "execution_count": 80,
      "metadata": {
        "gather": {
          "logged": 1633977301987
        }
      },
      "outputs": [
        {
          "name": "stdout",
          "output_type": "stream",
          "text": [
            "803      Predicted:  bad Value: good\n",
            "124       Predicted:  bad Value: bad\n",
            "350      Predicted:  bad Value: good\n",
            "682       Predicted:  bad Value: bad\n",
            "1326    Predicted:  good Value: good\n",
            "976       Predicted:  bad Value: bad\n",
            "1493      Predicted:  bad Value: bad\n",
            "706       Predicted:  bad Value: bad\n",
            "613      Predicted:  good Value: bad\n",
            "1587    Predicted:  good Value: good\n",
            "Name: quality, dtype: object\n"
          ]
        }
      ],
      "source": [
        "#Test model classification\n",
        "y_test = test_data.pop(\"quality\")\n",
        "\n",
        "y_classify = fitted_model.predict(test_data)\n",
        "\n",
        "print(\"Predicted:  \" + y_classify[:10] + \" Value: \" + y_test[:10])\n"
      ]
    },
    {
      "cell_type": "code",
      "execution_count": 57,
      "metadata": {
        "gather": {
          "logged": 1633964759081
        },
        "jupyter": {
          "outputs_hidden": false,
          "source_hidden": false
        },
        "nteract": {
          "transient": {
            "deleting": false
          }
        }
      },
      "outputs": [],
      "source": [
        "#Register model\n",
        "model_name = best_run.properties['model_name']\n",
        "description = 'AutoML jupyter example'\n",
        "tags = None\n",
        "\n",
        "model = run.register_model(model_name = model_name, \n",
        "                                  description = description, \n",
        "                                  tags = tags)"
      ]
    },
    {
      "cell_type": "code",
      "execution_count": 59,
      "metadata": {
        "gather": {
          "logged": 1633964840337
        },
        "jupyter": {
          "outputs_hidden": false,
          "source_hidden": false
        },
        "nteract": {
          "transient": {
            "deleting": false
          }
        }
      },
      "outputs": [
        {
          "name": "stdout",
          "output_type": "stream",
          "text": [
            "None\n"
          ]
        }
      ],
      "source": [
        "\n",
        "script_file_name = 'score.py'\n",
        "file_dwn = best_run.download_file('./outputs/scoring_file_v_1_0_0.py', script_file_name)\n",
        "\n",
        "print(file_dwn)"
      ]
    },
    {
      "cell_type": "code",
      "execution_count": 60,
      "metadata": {
        "gather": {
          "logged": 1633965107431
        },
        "jupyter": {
          "outputs_hidden": false,
          "source_hidden": false
        },
        "nteract": {
          "transient": {
            "deleting": false
          }
        }
      },
      "outputs": [
        {
          "name": "stdout",
          "output_type": "stream",
          "text": [
            "automl-jupyter-model\n",
            "Tips: You can try get_logs(): https://aka.ms/debugimage#dockerlog or local deployment: https://aka.ms/debugimage#debug-locally to debug if deployment takes longer than 10 minutes.\n",
            "Running\n",
            "2021-10-11 15:07:32+00:00 Creating Container Registry if not exists.\n",
            "2021-10-11 15:07:32+00:00 Registering the environment.\n",
            "2021-10-11 15:07:32+00:00 Use the existing image.\n",
            "2021-10-11 15:07:33+00:00 Generating deployment configuration.\n",
            "2021-10-11 15:07:34+00:00 Submitting deployment to compute..\n",
            "2021-10-11 15:07:47+00:00 Checking the status of deployment automl-jupyter-model..\n",
            "2021-10-11 15:11:48+00:00 Checking the status of inference endpoint automl-jupyter-model.\n",
            "Succeeded\n",
            "ACI service creation operation finished, operation \"Succeeded\"\n",
            "Healthy\n"
          ]
        }
      ],
      "source": [
        "#Deploy model into container\n",
        "inference_config = InferenceConfig(environment = best_run.get_environment(), \n",
        "                                   entry_script = './score.py')\n",
        "\n",
        "aciconfig = AciWebservice.deploy_configuration(cpu_cores = 2, \n",
        "                                               memory_gb = 4, \n",
        "                                               tags = {'type': \"automl-jupyter\"},\n",
        "                                               description = \"Automl jupyter sample service\")\n",
        "\n",
        "aci_service_name = 'automl-jupyter-model'\n",
        "print(aci_service_name)\n",
        "aci_service = Model.deploy(ws, aci_service_name, [model], inference_config, aciconfig)\n",
        "aci_service.wait_for_deployment(True)\n",
        "print(aci_service.state)"
      ]
    },
    {
      "cell_type": "code",
      "execution_count": 83,
      "metadata": {
        "gather": {
          "logged": 1633978193056
        },
        "jupyter": {
          "outputs_hidden": false,
          "source_hidden": false
        },
        "nteract": {
          "transient": {
            "deleting": false
          }
        }
      },
      "outputs": [
        {
          "data": {
            "text/plain": [
              "'http://4e6aa4d1-bd2d-4bb3-b9d8-d22d3655ba9c.westeurope.azurecontainer.io/score'"
            ]
          },
          "execution_count": 83,
          "metadata": {},
          "output_type": "execute_result"
        }
      ],
      "source": [
        "scoring_uri = aci_service.scoring_uri\n",
        "scoring_uri"
      ]
    },
    {
      "cell_type": "code",
      "execution_count": 115,
      "metadata": {
        "gather": {
          "logged": 1633979822534
        },
        "jupyter": {
          "outputs_hidden": false,
          "source_hidden": false
        },
        "nteract": {
          "transient": {
            "deleting": false
          }
        }
      },
      "outputs": [
        {
          "name": "stdout",
          "output_type": "stream",
          "text": [
            "200\n",
            "The wine submitted is {\"result\": [\"bad\"]}\n"
          ]
        }
      ],
      "source": [
        "# Request data goes here\n",
        "data = {\"data\": [\n",
        "    {\n",
        "      \"fixed acidity\": 8.8,\n",
        "      \"volatile acidity\": 0.32,\n",
        "      \"citric acid\": 0.57,\n",
        "      \"residual sugar\": 2.3,\n",
        "      \"chlorides\": 0.069,\n",
        "      \"free sulfur dioxide\": 29,\n",
        "      \"total sulfur dioxide\": 37,\n",
        "      \"density\": 0.997,\n",
        "      \"pH\": 3.15,\n",
        "      \"sulphates\": 0.61,\n",
        "      \"alcohol\": 9.6\n",
        "    }\n",
        "  ],\n",
        "  \"method\": \"predict\"\n",
        "  }\n",
        "\n",
        "input_data = json.dumps(data)\n",
        "\n",
        "# Set the content type\n",
        "headers = {'Content-Type': 'application/json'}\n",
        "\n",
        "# Make the request and display the response\n",
        "resp = requests.post(scoring_uri, input_data, headers=headers)\n",
        "\n",
        "print(resp.status_code)\n",
        "print(\"The wine submitted is \" + resp.json())"
      ]
    }
  ],
  "metadata": {
    "interpreter": {
      "hash": "962790a903f06945bedf793afb3bd0222459049c450f25bfc83e865d4f25a357"
    },
    "kernel_info": {
      "name": "python3-azureml"
    },
    "kernelspec": {
      "display_name": "Python 3.9.7 64-bit ('security': conda)",
      "name": "python3"
    },
    "language_info": {
      "codemirror_mode": {
        "name": "ipython",
        "version": 3
      },
      "file_extension": ".py",
      "mimetype": "text/x-python",
      "name": "python",
      "nbconvert_exporter": "python",
      "pygments_lexer": "ipython3",
      "version": "3.9.7"
    },
    "microsoft": {
      "host": {
        "AzureML": {
          "notebookHasBeenCompleted": true
        }
      }
    },
    "nteract": {
      "version": "nteract-front-end@1.0.0"
    }
  },
  "nbformat": 4,
  "nbformat_minor": 2
}
